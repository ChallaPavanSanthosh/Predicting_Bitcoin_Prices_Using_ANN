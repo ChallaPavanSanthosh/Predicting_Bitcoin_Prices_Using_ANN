{
 "cells": [
  {
   "cell_type": "code",
   "execution_count": 1,
   "id": "45d071c8",
   "metadata": {},
   "outputs": [],
   "source": [
    "import os"
   ]
  },
  {
   "cell_type": "code",
   "execution_count": 2,
   "id": "2b0551c9",
   "metadata": {},
   "outputs": [
    {
     "data": {
      "text/plain": [
       "'c:\\\\Users\\\\HP\\\\Desktop\\\\apex\\\\project\\\\Predicting_Bitcoin_Prices_Using_ANN\\\\research'"
      ]
     },
     "execution_count": 2,
     "metadata": {},
     "output_type": "execute_result"
    }
   ],
   "source": [
    "%pwd"
   ]
  },
  {
   "cell_type": "code",
   "execution_count": 3,
   "id": "e453fab7",
   "metadata": {},
   "outputs": [],
   "source": [
    "os.chdir(\"../\")"
   ]
  },
  {
   "cell_type": "code",
   "execution_count": 4,
   "id": "1ff483c0",
   "metadata": {},
   "outputs": [
    {
     "data": {
      "text/plain": [
       "'c:\\\\Users\\\\HP\\\\Desktop\\\\apex\\\\project\\\\Predicting_Bitcoin_Prices_Using_ANN'"
      ]
     },
     "execution_count": 4,
     "metadata": {},
     "output_type": "execute_result"
    }
   ],
   "source": [
    "%pwd"
   ]
  },
  {
   "cell_type": "code",
   "execution_count": 5,
   "id": "f44d3a92",
   "metadata": {},
   "outputs": [],
   "source": [
    "import tensorflow as tf"
   ]
  },
  {
   "cell_type": "code",
   "execution_count": 6,
   "id": "1201f91e",
   "metadata": {},
   "outputs": [],
   "source": [
    "model = tf.keras.models.load_model(\"artifacts/model/trained_model.h5\")"
   ]
  },
  {
   "cell_type": "code",
   "execution_count": 7,
   "id": "8cd23a05",
   "metadata": {},
   "outputs": [],
   "source": [
    "from dataclasses import dataclass\n",
    "from pathlib import Path\n",
    "\n",
    "@dataclass(frozen=True)\n",
    "class EvaluationConfig:\n",
    "    path_of_model: Path                 # Path to the trained .h5 model\n",
    "    training_data: Path                 # Path to train_val_data.pkl\n",
    "    all_params: dict                    # All hyperparameters\n",
    "    params_learning_rate: float\n",
    "    # mlflow_uri: str                     # URI for MLflow tracking\n",
    "    params_epochs: int                 # Number of epochs used\n",
    "    params_batch_size: int             # Batch size"
   ]
  },
  {
   "cell_type": "code",
   "execution_count": 8,
   "id": "9f1697c3",
   "metadata": {},
   "outputs": [],
   "source": [
    "from ANNClassifier.constants import *\n",
    "from ANNClassifier.utils.common import read_yaml, create_directories, save_json"
   ]
  },
  {
   "cell_type": "code",
   "execution_count": 9,
   "id": "75a2eea5",
   "metadata": {},
   "outputs": [
    {
     "ename": "ImportError",
     "evalue": "cannot import name 'EvaluationConfig' from 'ANNClassifier.entity.config_entity' (c:\\users\\hp\\desktop\\apex\\project\\predicting_bitcoin_prices_using_ann\\src\\ANNClassifier\\entity\\config_entity.py)",
     "output_type": "error",
     "traceback": [
      "\u001b[1;31m---------------------------------------------------------------------------\u001b[0m",
      "\u001b[1;31mImportError\u001b[0m                               Traceback (most recent call last)",
      "Cell \u001b[1;32mIn[9], line 2\u001b[0m\n\u001b[0;32m      1\u001b[0m \u001b[38;5;28;01mfrom\u001b[39;00m\u001b[38;5;250m \u001b[39m\u001b[38;5;21;01mpathlib\u001b[39;00m\u001b[38;5;250m \u001b[39m\u001b[38;5;28;01mimport\u001b[39;00m Path\n\u001b[1;32m----> 2\u001b[0m \u001b[38;5;28;01mfrom\u001b[39;00m\u001b[38;5;250m \u001b[39m\u001b[38;5;21;01mANNClassifier\u001b[39;00m\u001b[38;5;21;01m.\u001b[39;00m\u001b[38;5;21;01mentity\u001b[39;00m\u001b[38;5;21;01m.\u001b[39;00m\u001b[38;5;21;01mconfig_entity\u001b[39;00m\u001b[38;5;250m \u001b[39m\u001b[38;5;28;01mimport\u001b[39;00m EvaluationConfig  \u001b[38;5;66;03m# adjust import if needed\u001b[39;00m\n\u001b[0;32m      3\u001b[0m \u001b[38;5;28;01mfrom\u001b[39;00m\u001b[38;5;250m \u001b[39m\u001b[38;5;21;01mANNClassifier\u001b[39;00m\u001b[38;5;21;01m.\u001b[39;00m\u001b[38;5;21;01mutils\u001b[39;00m\u001b[38;5;21;01m.\u001b[39;00m\u001b[38;5;21;01mcommon\u001b[39;00m\u001b[38;5;250m \u001b[39m\u001b[38;5;28;01mimport\u001b[39;00m read_yaml, create_directories\n\u001b[0;32m      4\u001b[0m \u001b[38;5;28;01mimport\u001b[39;00m\u001b[38;5;250m \u001b[39m\u001b[38;5;21;01mos\u001b[39;00m\n",
      "\u001b[1;31mImportError\u001b[0m: cannot import name 'EvaluationConfig' from 'ANNClassifier.entity.config_entity' (c:\\users\\hp\\desktop\\apex\\project\\predicting_bitcoin_prices_using_ann\\src\\ANNClassifier\\entity\\config_entity.py)"
     ]
    }
   ],
   "source": [
    "from pathlib import Path\n",
    "from ANNClassifier.entity.config_entity import EvaluationConfig  # adjust import if needed\n",
    "from ANNClassifier.utils.common import read_yaml, create_directories\n",
    "import os"
   ]
  },
  {
   "cell_type": "code",
   "execution_count": 10,
   "id": "af09bf08",
   "metadata": {},
   "outputs": [],
   "source": [
    "class ConfigurationManager:\n",
    "    def __init__(\n",
    "        self, \n",
    "        config_filepath=CONFIG_FILE_PATH,\n",
    "        params_filepath=PARAMS_FILE_PATH\n",
    "    ):\n",
    "        self.config = read_yaml(config_filepath)\n",
    "        self.params = read_yaml(params_filepath)\n",
    "        create_directories([self.config.artifacts_root])\n",
    "\n",
    "    # def get_evaluation_config(self) -> EvaluationConfig:\n",
    "    #     eval_config = EvaluationConfig(\n",
    "    #         path_of_model=Path(self.config.training.trained_model_path),\n",
    "    #         training_data=Path(self.config.training.data_file),\n",
    "    #         # mlflow_uri=os.getenv(\"MLFLOW_TRACKING_URI\"),   # use your environment variable\n",
    "    #         all_params=self.params,\n",
    "    #         params_epochs=self.params.epochs_final,\n",
    "    #         params_batch_size=self.params.BATCH_SIZE,\n",
    "    #         params_learning_rate=self.params.LEARNING_RATE\n",
    "    #     )\n",
    "    #     return eval_config\n",
    "    \n",
    "    def get_evaluation_config(self) -> EvaluationConfig:\n",
    "        training = self.config.training  # accessing the training block\n",
    "\n",
    "        eval_config = EvaluationConfig(\n",
    "            path_of_model=Path(training.trained_model_path),\n",
    "            training_data=Path(training.data_file),\n",
    "            # mlflow_uri=\"\",  # empty or remove if MLflow not used\n",
    "            all_params=training,  # or self.config if you want to log everything\n",
    "            params_epochs=training.epochs_final,        # ✅ pulled from training block\n",
    "            params_batch_size=training.batch_size,      # ✅ pulled from training block\n",
    "            params_learning_rate=0.001                  # set manually if not present\n",
    "        )\n",
    "        return eval_config\n"
   ]
  },
  {
   "cell_type": "code",
   "execution_count": 11,
   "id": "a836a58e",
   "metadata": {},
   "outputs": [],
   "source": [
    "import tensorflow as tf\n",
    "from pathlib import Path\n",
    "# import mlflow\n",
    "# import mlflow.keras\n",
    "from urllib.parse import urlparse"
   ]
  },
  {
   "cell_type": "code",
   "execution_count": 12,
   "id": "d5c7bd74",
   "metadata": {},
   "outputs": [
    {
     "ename": "ImportError",
     "evalue": "cannot import name 'EvaluationConfig' from 'ANNClassifier.entity.config_entity' (c:\\users\\hp\\desktop\\apex\\project\\predicting_bitcoin_prices_using_ann\\src\\ANNClassifier\\entity\\config_entity.py)",
     "output_type": "error",
     "traceback": [
      "\u001b[1;31m---------------------------------------------------------------------------\u001b[0m",
      "\u001b[1;31mImportError\u001b[0m                               Traceback (most recent call last)",
      "Cell \u001b[1;32mIn[12], line 5\u001b[0m\n\u001b[0;32m      2\u001b[0m \u001b[38;5;28;01mimport\u001b[39;00m\u001b[38;5;250m \u001b[39m\u001b[38;5;21;01mnumpy\u001b[39;00m\u001b[38;5;250m \u001b[39m\u001b[38;5;28;01mas\u001b[39;00m\u001b[38;5;250m \u001b[39m\u001b[38;5;21;01mnp\u001b[39;00m\n\u001b[0;32m      4\u001b[0m \u001b[38;5;28;01mimport\u001b[39;00m\u001b[38;5;250m \u001b[39m\u001b[38;5;21;01mtensorflow\u001b[39;00m\u001b[38;5;250m \u001b[39m\u001b[38;5;28;01mas\u001b[39;00m\u001b[38;5;250m \u001b[39m\u001b[38;5;21;01mtf\u001b[39;00m\n\u001b[1;32m----> 5\u001b[0m \u001b[38;5;28;01mfrom\u001b[39;00m\u001b[38;5;250m \u001b[39m\u001b[38;5;21;01mANNClassifier\u001b[39;00m\u001b[38;5;21;01m.\u001b[39;00m\u001b[38;5;21;01mentity\u001b[39;00m\u001b[38;5;21;01m.\u001b[39;00m\u001b[38;5;21;01mconfig_entity\u001b[39;00m\u001b[38;5;250m \u001b[39m\u001b[38;5;28;01mimport\u001b[39;00m EvaluationConfig\n\u001b[0;32m      6\u001b[0m \u001b[38;5;28;01mfrom\u001b[39;00m\u001b[38;5;250m \u001b[39m\u001b[38;5;21;01mANNClassifier\u001b[39;00m\u001b[38;5;21;01m.\u001b[39;00m\u001b[38;5;21;01mutils\u001b[39;00m\u001b[38;5;21;01m.\u001b[39;00m\u001b[38;5;21;01mcommon\u001b[39;00m\u001b[38;5;250m \u001b[39m\u001b[38;5;28;01mimport\u001b[39;00m save_json\n",
      "\u001b[1;31mImportError\u001b[0m: cannot import name 'EvaluationConfig' from 'ANNClassifier.entity.config_entity' (c:\\users\\hp\\desktop\\apex\\project\\predicting_bitcoin_prices_using_ann\\src\\ANNClassifier\\entity\\config_entity.py)"
     ]
    }
   ],
   "source": [
    "\n",
    "from pathlib import Path\n",
    "import numpy as np\n",
    "\n",
    "import tensorflow as tf\n",
    "from ANNClassifier.entity.config_entity import EvaluationConfig\n",
    "from ANNClassifier.utils.common import save_json"
   ]
  },
  {
   "cell_type": "code",
   "execution_count": 13,
   "id": "44de6307",
   "metadata": {},
   "outputs": [],
   "source": [
    "import pickle\n",
    "from sklearn.metrics import mean_squared_error, mean_absolute_error, r2_score"
   ]
  },
  {
   "cell_type": "code",
   "execution_count": 14,
   "id": "d1561232",
   "metadata": {},
   "outputs": [],
   "source": [
    "class Evaluation:\n",
    "    def __init__(self, config: EvaluationConfig):\n",
    "        self.config = config\n",
    "\n",
    "    def load_model(self):\n",
    "        self.model = tf.keras.models.load_model(self.config.path_of_model)\n",
    "\n",
    "    def load_data(self):\n",
    "        with open(self.config.training_data, \"rb\") as f:\n",
    "            data = pickle.load(f)\n",
    "        self.X_val = data[\"X_val\"]\n",
    "        self.y_val = data[\"y_val\"]\n",
    "\n",
    "    # def evaluate(self):\n",
    "    #     self.y_pred = self.model.predict(self.X_val)\n",
    "    #     self.mse = mean_squared_error(self.y_val, self.y_pred)\n",
    "    #     self.mae = mean_absolute_error(self.y_val, self.y_pred)\n",
    "    #     self.r2 = r2_score(self.y_val, self.y_pred)\n",
    "\n",
    "    def evaluate(self):\n",
    "        self.y_pred = self.model.predict(self.X_val)\n",
    "        self.mse = mean_squared_error(self.y_val, self.y_pred)\n",
    "        self.mae = mean_absolute_error(self.y_val, self.y_pred)\n",
    "        self.r2 = r2_score(self.y_val, self.y_pred)\n",
    "\n",
    "        # Plot actual vs predicted\n",
    "        import matplotlib.pyplot as plt\n",
    "\n",
    "        plt.figure(figsize=(12, 6))\n",
    "        plt.plot(self.y_val, label=\"Actual\")\n",
    "        plt.plot(self.y_pred, label=\"Predicted\")\n",
    "        plt.title(\"Model Prediction vs Actual\")\n",
    "        plt.xlabel(\"Time Steps\")\n",
    "        plt.ylabel(\"Bitcoin Price\")\n",
    "        plt.legend()\n",
    "        plt.grid(True)\n",
    "        plt.tight_layout()\n",
    "        plt.show()\n",
    "\n",
    "\n",
    "    def save_score(self):\n",
    "        scores = {\n",
    "            \"mean_squared_error\": self.mse,\n",
    "            \"mean_absolute_error\": self.mae,\n",
    "            \"r2_score\": self.r2\n",
    "        }\n",
    "        save_json(path=Path(\"scores.json\"), data=scores)\n",
    "\n",
    "    def run(self):\n",
    "        self.load_model()\n",
    "        self.load_data()\n",
    "        self.evaluate()\n",
    "        self.save_score()"
   ]
  },
  {
   "cell_type": "code",
   "execution_count": 15,
   "id": "b45410dc",
   "metadata": {},
   "outputs": [
    {
     "name": "stdout",
     "output_type": "stream",
     "text": [
      "47/47 [==============================] - 0s 2ms/step\n"
     ]
    },
    {
     "data": {
      "image/png": "[encoded data removed]",
      "text/plain": [
       "<Figure size 1200x600 with 1 Axes>"
      ]
     },
     "metadata": {},
     "output_type": "display_data"
    },
    {
     "name": "stdout",
     "output_type": "stream",
     "text": [
      "✅ Evaluation complete. Scores saved to scores.json\n"
     ]
    }
   ],
   "source": [
    "try:\n",
    "    config = ConfigurationManager()\n",
    "    eval_config = config.get_evaluation_config()\n",
    "    evaluation = Evaluation(config=eval_config)\n",
    "    evaluation.run()\n",
    "    print(\"✅ Evaluation complete. Scores saved to scores.json\")\n",
    "except Exception as e:\n",
    "    raise e"
   ]
  },
  {
   "cell_type": "code",
   "execution_count": null,
   "id": "7ede2ae0",
   "metadata": {},
   "outputs": [],
   "source": []
  }
 ],
 "metadata": {
  "kernelspec": {
   "display_name": "bitcoin",
   "language": "python",
   "name": "python3"
  },
  "language_info": {
   "codemirror_mode": {
    "name": "ipython",
    "version": 3
   },
   "file_extension": ".py",
   "mimetype": "text/x-python",
   "name": "python",
   "nbconvert_exporter": "python",
   "pygments_lexer": "ipython3",
   "version": "3.9.0"
  }
 },
 "nbformat": 4,
 "nbformat_minor": 5
}
